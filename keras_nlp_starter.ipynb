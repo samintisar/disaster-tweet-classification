{
 "cells": [
  {
   "cell_type": "markdown",
   "id": "e59fbaa2",
   "metadata": {},
   "source": [
    "# Natural Language Processing with DistilBERT for Disaster Tweet Classification\n",
    "\n",
    "## Project Overview\n",
    "In this project, we'll build a machine learning model that can identify whether a tweet is about a real disaster or not. This is an important application of NLP that could help emergency responders identify real emergencies from social media data.\n",
    "\n",
    "### Dataset\n",
    "- 10,000 hand-classified tweets\n",
    "- Binary classification task (disaster vs. non-disaster)\n",
    "- Features include tweet text, keywords, and location information\n",
    "\n",
    "### Technical Approach\n",
    "We're using **DistilBERT**, a lightweight and efficient transformer model:\n",
    "- 40% smaller than BERT\n",
    "- 60% faster processing\n",
    "- Maintains 97% of BERT's performance\n",
    "- Perfect for real-world applications where efficiency matters\n",
    "\n",
    "### What is BERT?\n",
    "**BERT** (Bidirectional Encoder Representations from Transformers) revolutionized NLP by:\n",
    "- Processing text bidirectionally (understanding context from both directions)\n",
    "- Pre-training on massive text datasets\n",
    "- Providing rich contextual word embeddings\n",
    "- Supporting fine-tuning for specific tasks\n",
    "\n",
    "![BERT Architecture](https://www.cse.chalmers.se/~richajo/nlp2019/l5/bert_class.png)\n",
    "\n",
    "### Notebook Contents\n",
    "1. Data Loading & Exploration\n",
    "2. Text Preprocessing\n",
    "3. Model Setup (DistilBERT)\n",
    "4. Training Pipeline\n",
    "5. Evaluation & Results\n",
    "6. Prediction Generation"
   ]
  },
  {
   "cell_type": "code",
   "execution_count": 2,
   "id": "40860bae",
   "metadata": {},
   "outputs": [],
   "source": [
    "import numpy as np\n",
    "import pandas as pd\n",
    "import torch\n",
    "import torch.optim as optim\n",
    "\n",
    "from transformers import (\n",
    "    DistilBertTokenizerFast,\n",
    "    DistilBertForSequenceClassification,\n",
    ")\n",
    "\n",
    "\n",
    "from datasets import Dataset\n",
    "\n",
    "from sklearn.metrics import (\n",
    "    confusion_matrix,\n",
    "    ConfusionMatrixDisplay,\n",
    ")\n",
    "\n",
    "import matplotlib.pyplot as plt"
   ]
  },
  {
   "cell_type": "markdown",
   "id": "1b000d5a",
   "metadata": {},
   "source": [
    "# Data Loading and Initial Exploration\n",
    "\n",
    "Our dataset contains tweets that have been manually classified. Let's understand its structure:\n",
    "\n",
    "### Features\n",
    "1. **id**: Unique identifier for each tweet\n",
    "2. **keyword**: A keyword extracted from the tweet (may be empty)\n",
    "3. **location**: The location the tweet was sent from (may be empty)\n",
    "4. **text**: The actual content of the tweet\n",
    "5. **target**: Our label\n",
    "   - 1 = Real disaster tweet\n",
    "   - 0 = Not a real disaster tweet\n",
    "\n",
    "### Why these features matter:\n",
    "- **keywords**: Often indicate the topic/emergency type\n",
    "- **location**: Could show geographical patterns in disaster reporting\n",
    "- **text**: Contains the main information we'll use for classification\n",
    "\n",
    "We'll load both training and test sets to begin our analysis."
   ]
  },
  {
   "cell_type": "code",
   "execution_count": 3,
   "id": "0a966d83",
   "metadata": {},
   "outputs": [
    {
     "name": "stdout",
     "output_type": "stream",
     "text": [
      "Training Set Shape = (7613, 5)\n",
      "Training Set Memory Usage = 0.29 MB\n",
      "Test Set Shape = (3263, 4)\n",
      "Test Set Memory Usage = 0.10 MB\n"
     ]
    }
   ],
   "source": [
    "df_train = pd.read_csv(\"Data/train.csv\")\n",
    "df_test = pd.read_csv(\"Data/test.csv\")\n",
    "\n",
    "print('Training Set Shape = {}'.format(df_train.shape))\n",
    "print('Training Set Memory Usage = {:.2f} MB'.format(df_train.memory_usage().sum() / 1024**2))\n",
    "print('Test Set Shape = {}'.format(df_test.shape))\n",
    "print('Test Set Memory Usage = {:.2f} MB'.format(df_test.memory_usage().sum() / 1024**2))"
   ]
  },
  {
   "cell_type": "code",
   "execution_count": 4,
   "id": "3623fade",
   "metadata": {},
   "outputs": [
    {
     "data": {
      "text/html": [
       "<div>\n",
       "<style scoped>\n",
       "    .dataframe tbody tr th:only-of-type {\n",
       "        vertical-align: middle;\n",
       "    }\n",
       "\n",
       "    .dataframe tbody tr th {\n",
       "        vertical-align: top;\n",
       "    }\n",
       "\n",
       "    .dataframe thead th {\n",
       "        text-align: right;\n",
       "    }\n",
       "</style>\n",
       "<table border=\"1\" class=\"dataframe\">\n",
       "  <thead>\n",
       "    <tr style=\"text-align: right;\">\n",
       "      <th></th>\n",
       "      <th>id</th>\n",
       "      <th>keyword</th>\n",
       "      <th>location</th>\n",
       "      <th>text</th>\n",
       "      <th>target</th>\n",
       "    </tr>\n",
       "  </thead>\n",
       "  <tbody>\n",
       "    <tr>\n",
       "      <th>0</th>\n",
       "      <td>1</td>\n",
       "      <td>NaN</td>\n",
       "      <td>NaN</td>\n",
       "      <td>Our Deeds are the Reason of this #earthquake M...</td>\n",
       "      <td>1</td>\n",
       "    </tr>\n",
       "    <tr>\n",
       "      <th>1</th>\n",
       "      <td>4</td>\n",
       "      <td>NaN</td>\n",
       "      <td>NaN</td>\n",
       "      <td>Forest fire near La Ronge Sask. Canada</td>\n",
       "      <td>1</td>\n",
       "    </tr>\n",
       "    <tr>\n",
       "      <th>2</th>\n",
       "      <td>5</td>\n",
       "      <td>NaN</td>\n",
       "      <td>NaN</td>\n",
       "      <td>All residents asked to 'shelter in place' are ...</td>\n",
       "      <td>1</td>\n",
       "    </tr>\n",
       "    <tr>\n",
       "      <th>3</th>\n",
       "      <td>6</td>\n",
       "      <td>NaN</td>\n",
       "      <td>NaN</td>\n",
       "      <td>13,000 people receive #wildfires evacuation or...</td>\n",
       "      <td>1</td>\n",
       "    </tr>\n",
       "    <tr>\n",
       "      <th>4</th>\n",
       "      <td>7</td>\n",
       "      <td>NaN</td>\n",
       "      <td>NaN</td>\n",
       "      <td>Just got sent this photo from Ruby #Alaska as ...</td>\n",
       "      <td>1</td>\n",
       "    </tr>\n",
       "  </tbody>\n",
       "</table>\n",
       "</div>"
      ],
      "text/plain": [
       "   id keyword location                                               text  \\\n",
       "0   1     NaN      NaN  Our Deeds are the Reason of this #earthquake M...   \n",
       "1   4     NaN      NaN             Forest fire near La Ronge Sask. Canada   \n",
       "2   5     NaN      NaN  All residents asked to 'shelter in place' are ...   \n",
       "3   6     NaN      NaN  13,000 people receive #wildfires evacuation or...   \n",
       "4   7     NaN      NaN  Just got sent this photo from Ruby #Alaska as ...   \n",
       "\n",
       "   target  \n",
       "0       1  \n",
       "1       1  \n",
       "2       1  \n",
       "3       1  \n",
       "4       1  "
      ]
     },
     "execution_count": 4,
     "metadata": {},
     "output_type": "execute_result"
    }
   ],
   "source": [
    "df_train.head()"
   ]
  },
  {
   "cell_type": "code",
   "execution_count": 5,
   "id": "ce3eda6a",
   "metadata": {},
   "outputs": [
    {
     "data": {
      "text/html": [
       "<div>\n",
       "<style scoped>\n",
       "    .dataframe tbody tr th:only-of-type {\n",
       "        vertical-align: middle;\n",
       "    }\n",
       "\n",
       "    .dataframe tbody tr th {\n",
       "        vertical-align: top;\n",
       "    }\n",
       "\n",
       "    .dataframe thead th {\n",
       "        text-align: right;\n",
       "    }\n",
       "</style>\n",
       "<table border=\"1\" class=\"dataframe\">\n",
       "  <thead>\n",
       "    <tr style=\"text-align: right;\">\n",
       "      <th></th>\n",
       "      <th>id</th>\n",
       "      <th>keyword</th>\n",
       "      <th>location</th>\n",
       "      <th>text</th>\n",
       "    </tr>\n",
       "  </thead>\n",
       "  <tbody>\n",
       "    <tr>\n",
       "      <th>0</th>\n",
       "      <td>0</td>\n",
       "      <td>NaN</td>\n",
       "      <td>NaN</td>\n",
       "      <td>Just happened a terrible car crash</td>\n",
       "    </tr>\n",
       "    <tr>\n",
       "      <th>1</th>\n",
       "      <td>2</td>\n",
       "      <td>NaN</td>\n",
       "      <td>NaN</td>\n",
       "      <td>Heard about #earthquake is different cities, s...</td>\n",
       "    </tr>\n",
       "    <tr>\n",
       "      <th>2</th>\n",
       "      <td>3</td>\n",
       "      <td>NaN</td>\n",
       "      <td>NaN</td>\n",
       "      <td>there is a forest fire at spot pond, geese are...</td>\n",
       "    </tr>\n",
       "    <tr>\n",
       "      <th>3</th>\n",
       "      <td>9</td>\n",
       "      <td>NaN</td>\n",
       "      <td>NaN</td>\n",
       "      <td>Apocalypse lighting. #Spokane #wildfires</td>\n",
       "    </tr>\n",
       "    <tr>\n",
       "      <th>4</th>\n",
       "      <td>11</td>\n",
       "      <td>NaN</td>\n",
       "      <td>NaN</td>\n",
       "      <td>Typhoon Soudelor kills 28 in China and Taiwan</td>\n",
       "    </tr>\n",
       "  </tbody>\n",
       "</table>\n",
       "</div>"
      ],
      "text/plain": [
       "   id keyword location                                               text\n",
       "0   0     NaN      NaN                 Just happened a terrible car crash\n",
       "1   2     NaN      NaN  Heard about #earthquake is different cities, s...\n",
       "2   3     NaN      NaN  there is a forest fire at spot pond, geese are...\n",
       "3   9     NaN      NaN           Apocalypse lighting. #Spokane #wildfires\n",
       "4  11     NaN      NaN      Typhoon Soudelor kills 28 in China and Taiwan"
      ]
     },
     "execution_count": 5,
     "metadata": {},
     "output_type": "execute_result"
    }
   ],
   "source": [
    "df_test.head()"
   ]
  },
  {
   "cell_type": "code",
   "execution_count": 6,
   "id": "fab19753",
   "metadata": {},
   "outputs": [
    {
     "name": "stdout",
     "output_type": "stream",
     "text": [
      "Train Length Stat\n",
      "count    7613.000000\n",
      "mean      101.161697\n",
      "std        33.854073\n",
      "min         7.000000\n",
      "25%        78.000000\n",
      "50%       107.000000\n",
      "75%       133.000000\n",
      "max       157.000000\n",
      "Name: length, dtype: float64\n",
      "\n",
      "Test Length Stat\n",
      "count    3263.000000\n",
      "mean      102.241189\n",
      "std        34.052153\n",
      "min         5.000000\n",
      "25%        78.000000\n",
      "50%       109.000000\n",
      "75%       134.000000\n",
      "max       151.000000\n",
      "Name: length, dtype: float64\n"
     ]
    }
   ],
   "source": [
    "df_train[\"length\"] = df_train[\"text\"].apply(lambda x : len(x))\n",
    "df_test[\"length\"] = df_test[\"text\"].apply(lambda x : len(x))\n",
    "\n",
    "print(\"Train Length Stat\")\n",
    "print(df_train[\"length\"].describe())\n",
    "print()\n",
    "\n",
    "print(\"Test Length Stat\")\n",
    "print(df_test[\"length\"].describe())"
   ]
  },
  {
   "cell_type": "markdown",
   "id": "914ec6f9",
   "metadata": {},
   "source": [
    "If you want to know more information about the data, you can grab useful information [here](https://www.kaggle.com/code/gunesevitan/nlp-with-disaster-tweets-eda-cleaning-and-bert)\n",
    "\n",
    "Note that all the tweets are in english."
   ]
  },
  {
   "cell_type": "markdown",
   "id": "a67eb158",
   "metadata": {},
   "source": [
    "# Data Preprocessing and Model Setup\n",
    "\n",
    "### Hyperparameters\n",
    "- **BATCH_SIZE = 32**: Standard batch size for transformer models\n",
    "- **VAL_SPLIT = 0.2**: 80% training, 20% validation split\n",
    "- **MAX_LENGTH = 160**: Maximum tweet length (in tokens)\n",
    "- **MODEL_NAME = \"distilbert-base-uncased\"**: Pre-trained model we'll fine-tune\n",
    "\n",
    "### Data Processing Pipeline\n",
    "1. Split data into train/validation sets\n",
    "2. Convert to HuggingFace Datasets format\n",
    "3. Tokenize text using DistilBERT tokenizer\n",
    "4. Create PyTorch DataLoaders\n",
    "\n",
    "The tokenization process converts text into numbers that the model can understand:\n",
    "- Splits text into tokens (subwords)\n",
    "- Adds special tokens ([CLS], [SEP])\n",
    "- Pads sequences to same length\n",
    "- Creates attention masks"
   ]
  },
  {
   "cell_type": "code",
   "execution_count": 7,
   "id": "c5cf94be",
   "metadata": {},
   "outputs": [],
   "source": [
    "BATCH_SIZE = 32\n",
    "VAL_SPLIT  = 0.2\n",
    "MAX_LENGTH = 160\n",
    "MODEL_NAME = \"distilbert-base-uncased\""
   ]
  },
  {
   "cell_type": "code",
   "execution_count": 8,
   "id": "4ff8f297",
   "metadata": {},
   "outputs": [],
   "source": [
    "from sklearn.model_selection import train_test_split\n",
    "\n",
    "# stratified split\n",
    "train_df, val_df = train_test_split(\n",
    "    df_train,\n",
    "    test_size=VAL_SPLIT,\n",
    "    random_state=42,\n",
    "    stratify=df_train[\"target\"],\n",
    ")"
   ]
  },
  {
   "cell_type": "markdown",
   "id": "872f696c",
   "metadata": {},
   "source": [
    "# Model Training\n",
    "\n",
    "### Training Configuration\n",
    "- **Model**: DistilBERT with binary classification head\n",
    "- **Loss**: CrossEntropyLoss (standard for classification)\n",
    "- **Optimizer**: AdamW with learning rate 1e-5\n",
    "- **Epochs**: 2 full passes through the training data\n",
    "\n",
    "### Training Process\n",
    "For each epoch, we:\n",
    "1. Set model to training mode\n",
    "2. Process mini-batches of data\n",
    "3. Compute loss and gradients\n",
    "4. Update model parameters\n",
    "5. Track and display average loss\n",
    "\n",
    "### What to Watch For\n",
    "- Decreasing loss values indicate learning\n",
    "- Too rapid decrease might suggest overfitting\n",
    "- Stable loss suggests good learning rate\n",
    "\n",
    "The training loop includes proper handling of:\n",
    "- GPU acceleration (if available)\n",
    "- Gradient computation and updates\n",
    "- Batch processing\n",
    "- Loss tracking\n"
   ]
  },
  {
   "cell_type": "code",
   "execution_count": 9,
   "id": "0925879f",
   "metadata": {},
   "outputs": [
    {
     "data": {
      "application/vnd.jupyter.widget-view+json": {
       "model_id": "3949861fa2674f2c95aa9d2053829e4c",
       "version_major": 2,
       "version_minor": 0
      },
      "text/plain": [
       "Map:   0%|          | 0/6090 [00:00<?, ? examples/s]"
      ]
     },
     "metadata": {},
     "output_type": "display_data"
    },
    {
     "data": {
      "application/vnd.jupyter.widget-view+json": {
       "model_id": "dc9c84e2bcb6437f87808d3b7409a230",
       "version_major": 2,
       "version_minor": 0
      },
      "text/plain": [
       "Map:   0%|          | 0/1523 [00:00<?, ? examples/s]"
      ]
     },
     "metadata": {},
     "output_type": "display_data"
    },
    {
     "data": {
      "application/vnd.jupyter.widget-view+json": {
       "model_id": "398757f26d49444f9d8e3fd98f07aa0e",
       "version_major": 2,
       "version_minor": 0
      },
      "text/plain": [
       "Map:   0%|          | 0/3263 [00:00<?, ? examples/s]"
      ]
     },
     "metadata": {},
     "output_type": "display_data"
    }
   ],
   "source": [
    "# wrap pandas DataFrames in HF Dataset\n",
    "train_ds = Dataset.from_pandas(train_df)\n",
    "val_ds   = Dataset.from_pandas(val_df)\n",
    "test_ds  = Dataset.from_pandas(df_test)\n",
    "\n",
    "tokenizer = DistilBertTokenizerFast.from_pretrained(MODEL_NAME)\n",
    "\n",
    "def tokenize_batch(batch):\n",
    "    return tokenizer(\n",
    "        batch[\"text\"],\n",
    "        padding=\"max_length\",\n",
    "        truncation=True,\n",
    "        max_length=MAX_LENGTH,\n",
    "    )\n",
    "\n",
    "# apply tokenization\n",
    "train_ds = train_ds.map(tokenize_batch, batched=True)\n",
    "val_ds   = val_ds.map(tokenize_batch, batched=True)\n",
    "test_ds  = test_ds.map(tokenize_batch, batched=True)"
   ]
  },
  {
   "cell_type": "code",
   "execution_count": 10,
   "id": "599b71a2",
   "metadata": {},
   "outputs": [
    {
     "name": "stdout",
     "output_type": "stream",
     "text": [
      "Train columns: ['id', 'keyword', 'location', 'text', 'target', 'length', '__index_level_0__', 'input_ids', 'attention_mask']\n",
      "Train columns: ['id', 'keyword', 'location', 'text', 'target', 'length', '__index_level_0__', 'input_ids', 'attention_mask']\n",
      "Train columns: ['id', 'keyword', 'location', 'text', 'length', 'input_ids', 'attention_mask']\n"
     ]
    }
   ],
   "source": [
    "print(\"Train columns:\", train_ds.column_names)\n",
    "print(\"Train columns:\", val_ds.column_names)\n",
    "print(\"Train columns:\", test_ds.column_names)"
   ]
  },
  {
   "cell_type": "markdown",
   "id": "d46b129f",
   "metadata": {},
   "source": [
    "# Rename, Format & Build DataLoaders\n"
   ]
  },
  {
   "cell_type": "code",
   "execution_count": 11,
   "id": "7c245876",
   "metadata": {},
   "outputs": [],
   "source": [
    "# Columns we’d like to drop\n",
    "drop_cols = [\"__index_level_0__\", \"length\"]\n",
    "\n",
    "# Remove from train & val\n",
    "train_ds = train_ds.remove_columns([c for c in drop_cols if c in train_ds.column_names])\n",
    "val_ds   = val_ds.remove_columns(  [c for c in drop_cols if c in val_ds.column_names])\n",
    "test_ds  = test_ds.remove_columns( [c for c in drop_cols if c in test_ds.column_names])\n",
    "\n",
    "# Rename 'target' → 'labels' (only train/val have it)\n",
    "if \"target\" in train_ds.column_names:\n",
    "    train_ds = train_ds.rename_column(\"target\", \"labels\")\n",
    "if \"target\" in val_ds.column_names:\n",
    "    val_ds   = val_ds.rename_column(\"target\", \"labels\")"
   ]
  },
  {
   "cell_type": "code",
   "execution_count": 12,
   "id": "811ba29a",
   "metadata": {},
   "outputs": [],
   "source": [
    "def convert_to_torch_features(batch):\n",
    "    return {\n",
    "        'input_ids': torch.tensor(batch['input_ids']),\n",
    "        'attention_mask': torch.tensor(batch['attention_mask']),\n",
    "        'labels': torch.tensor(batch['labels']) if 'labels' in batch else None\n",
    "    }"
   ]
  },
  {
   "cell_type": "code",
   "execution_count": 13,
   "id": "05b42db2",
   "metadata": {},
   "outputs": [],
   "source": [
    "from torch.utils.data.dataloader import default_collate\n",
    "from torch.utils.data import DataLoader\n",
    "import torch\n",
    "\n",
    "# Convert features to PyTorch format and select only the columns we need\n",
    "train_ds.set_format('torch', columns=['input_ids', 'attention_mask', 'labels'])\n",
    "val_ds.set_format('torch', columns=['input_ids', 'attention_mask', 'labels'])\n",
    "test_ds.set_format('torch', columns=['input_ids', 'attention_mask'])\n",
    "\n",
    "# Simple collate function\n",
    "def collate_fn(examples):\n",
    "    input_ids = torch.stack([x['input_ids'] for x in examples])\n",
    "    attention_mask = torch.stack([x['attention_mask'] for x in examples])\n",
    "    if 'labels' in examples[0]:\n",
    "        labels = torch.tensor([x['labels'] for x in examples])\n",
    "        return {'input_ids': input_ids, 'attention_mask': attention_mask, 'labels': labels}\n",
    "    return {'input_ids': input_ids, 'attention_mask': attention_mask}\n",
    "\n",
    "train_loader = DataLoader(\n",
    "    train_ds,\n",
    "    batch_size=BATCH_SIZE,\n",
    "    shuffle=True,\n",
    "    num_workers=0,  # Temporarily disable multiprocessing\n",
    "    collate_fn=collate_fn\n",
    ")\n",
    "\n",
    "val_loader = DataLoader(\n",
    "    val_ds,\n",
    "    batch_size=BATCH_SIZE,\n",
    "    shuffle=False,\n",
    "    num_workers=0,\n",
    "    collate_fn=collate_fn\n",
    ")\n",
    "\n",
    "test_loader = DataLoader(\n",
    "    test_ds,\n",
    "    batch_size=BATCH_SIZE,\n",
    "    shuffle=False,\n",
    "    num_workers=0,\n",
    "    collate_fn=collate_fn\n",
    ")"
   ]
  },
  {
   "cell_type": "markdown",
   "id": "3db2c756",
   "metadata": {},
   "source": [
    "# Steps per Epoch (optional)"
   ]
  },
  {
   "cell_type": "code",
   "execution_count": 14,
   "id": "1c65a658",
   "metadata": {},
   "outputs": [
    {
     "name": "stdout",
     "output_type": "stream",
     "text": [
      "Batches per epoch: 191\n"
     ]
    }
   ],
   "source": [
    "steps_per_epoch = len(train_loader)\n",
    "print(\"Batches per epoch:\", steps_per_epoch)"
   ]
  },
  {
   "cell_type": "markdown",
   "id": "6b3c22d3",
   "metadata": {},
   "source": [
    "# Load a DistilBERT model from Keras NLP\n",
    "\n",
    "Text inputs need to be transformed to numeric token ids and arranged in several Tensors before being input to BERT.\n",
    "\n",
    "The BertClassifier model can be configured with a preprocessor layer, in which case it will automatically apply preprocessing to raw inputs during fit(), predict(), and evaluate(). This is done by default when creating the model with from_preset().\n",
    "\n",
    "We will choose DistilBERT model.that learns a distilled (approximate) version of BERT, retaining 97% performance but using only half the number of parameters ([paper](https://arxiv.org/abs/1910.01108)). \n",
    "\n",
    "It has 40% less parameters than bert-base-uncased, runs 60% faster while preserving over 95% of BERT’s performances as measured on the GLUE language understanding benchmark.\n",
    "\n",
    "Specifically, it doesn't have token-type embeddings, pooler and retains only half of the layers from Google's BERT."
   ]
  },
  {
   "cell_type": "code",
   "execution_count": 15,
   "id": "d6fc6b61",
   "metadata": {},
   "outputs": [
    {
     "name": "stderr",
     "output_type": "stream",
     "text": [
      "Some weights of DistilBertForSequenceClassification were not initialized from the model checkpoint at distilbert-base-uncased and are newly initialized: ['classifier.bias', 'classifier.weight', 'pre_classifier.bias', 'pre_classifier.weight']\n",
      "You should probably TRAIN this model on a down-stream task to be able to use it for predictions and inference.\n"
     ]
    },
    {
     "name": "stdout",
     "output_type": "stream",
     "text": [
      "Using DirectML device: privateuseone:0\n"
     ]
    },
    {
     "data": {
      "text/plain": [
       "DistilBertForSequenceClassification(\n",
       "  (distilbert): DistilBertModel(\n",
       "    (embeddings): Embeddings(\n",
       "      (word_embeddings): Embedding(30522, 768, padding_idx=0)\n",
       "      (position_embeddings): Embedding(512, 768)\n",
       "      (LayerNorm): LayerNorm((768,), eps=1e-12, elementwise_affine=True)\n",
       "      (dropout): Dropout(p=0.1, inplace=False)\n",
       "    )\n",
       "    (transformer): Transformer(\n",
       "      (layer): ModuleList(\n",
       "        (0-5): 6 x TransformerBlock(\n",
       "          (attention): DistilBertSdpaAttention(\n",
       "            (dropout): Dropout(p=0.1, inplace=False)\n",
       "            (q_lin): Linear(in_features=768, out_features=768, bias=True)\n",
       "            (k_lin): Linear(in_features=768, out_features=768, bias=True)\n",
       "            (v_lin): Linear(in_features=768, out_features=768, bias=True)\n",
       "            (out_lin): Linear(in_features=768, out_features=768, bias=True)\n",
       "          )\n",
       "          (sa_layer_norm): LayerNorm((768,), eps=1e-12, elementwise_affine=True)\n",
       "          (ffn): FFN(\n",
       "            (dropout): Dropout(p=0.1, inplace=False)\n",
       "            (lin1): Linear(in_features=768, out_features=3072, bias=True)\n",
       "            (lin2): Linear(in_features=3072, out_features=768, bias=True)\n",
       "            (activation): GELUActivation()\n",
       "          )\n",
       "          (output_layer_norm): LayerNorm((768,), eps=1e-12, elementwise_affine=True)\n",
       "        )\n",
       "      )\n",
       "    )\n",
       "  )\n",
       "  (pre_classifier): Linear(in_features=768, out_features=768, bias=True)\n",
       "  (classifier): Linear(in_features=768, out_features=2, bias=True)\n",
       "  (dropout): Dropout(p=0.2, inplace=False)\n",
       ")"
      ]
     },
     "execution_count": 15,
     "metadata": {},
     "output_type": "execute_result"
    }
   ],
   "source": [
    "MODEL_NAME = \"distilbert-base-uncased\"\n",
    "\n",
    "# 1) Tokenizer (handles tokenization + attention mask)\n",
    "tokenizer = DistilBertTokenizerFast.from_pretrained(MODEL_NAME)\n",
    "\n",
    "# 2) Pretrained classifier head on top of DistilBERT\n",
    "model = DistilBertForSequenceClassification.from_pretrained(\n",
    "    MODEL_NAME,\n",
    "    num_labels=2,            # your binary task\n",
    ")\n",
    "\n",
    "# 3) Try to use DirectML for AMD GPU, fallback to CPU if not available\n",
    "try:\n",
    "    import torch_directml\n",
    "    dml = torch_directml.device()\n",
    "    print(f\"Using DirectML device: {dml}\")\n",
    "    device = dml\n",
    "except Exception:\n",
    "    device = torch.device(\"cpu\")\n",
    "    print(f\"Falling back to CPU: {device}\")\n",
    "model.to(device)"
   ]
  },
  {
   "cell_type": "markdown",
   "id": "e60ce007",
   "metadata": {},
   "source": [
    "# Setup optimizer & loss"
   ]
  },
  {
   "cell_type": "code",
   "execution_count": 16,
   "id": "8a08f84d",
   "metadata": {},
   "outputs": [],
   "source": [
    "from torch.optim import AdamW\n",
    "\n",
    "# Binary classification → use CrossEntropyLoss (expects raw logits)\n",
    "criterion = torch.nn.CrossEntropyLoss()\n",
    "\n",
    "# AdamW is standard for Transformers, but disable foreach for DirectML compatibility\n",
    "optimizer = optim.AdamW(\n",
    "    model.parameters(), \n",
    "    lr=1e-5,\n",
    "    foreach=False  # Disable foreach path to avoid CPU fallback\n",
    ")"
   ]
  },
  {
   "cell_type": "markdown",
   "id": "bfb7d031",
   "metadata": {},
   "source": [
    "# Fine-tune DistilBERT"
   ]
  },
  {
   "cell_type": "code",
   "execution_count": null,
   "id": "8bf686f5",
   "metadata": {},
   "outputs": [
    {
     "name": "stderr",
     "output_type": "stream",
     "text": [
      "c:\\Users\\samin\\miniconda3\\envs\\nlp-env\\lib\\site-packages\\torch\\optim\\adamw.py:380: UserWarning: The operator 'aten::lerp.Scalar_out' is not currently supported on the DML backend and will fall back to run on the CPU. This may have performance implications. (Triggered internally at C:\\__w\\1\\s\\pytorch-directml-plugin\\torch_directml\\csrc\\dml\\dml_cpu_fallback.cpp:17.)\n",
      "  exp_avg.lerp_(grad, 1 - beta1)\n"
     ]
    }
   ],
   "source": [
    "EPOCHS = 2\n",
    "\n",
    "for epoch in range(1, EPOCHS + 1):\n",
    "    model.train()\n",
    "    total_loss = 0.0\n",
    "\n",
    "    for batch in train_loader:\n",
    "        input_ids = batch['input_ids'].to(device)\n",
    "        attention_mask = batch['attention_mask'].to(device)\n",
    "        labels = batch['labels'].to(device)\n",
    "        \n",
    "        optimizer.zero_grad()\n",
    "        outputs = model(\n",
    "            input_ids=input_ids,\n",
    "            attention_mask=attention_mask,\n",
    "            labels=labels\n",
    "        )\n",
    "        \n",
    "        loss = outputs.loss\n",
    "        loss.backward()\n",
    "        optimizer.step()\n",
    "\n",
    "        total_loss += loss.item()\n",
    "\n",
    "    avg_loss = total_loss / len(train_loader)\n",
    "    print(f\"Epoch {epoch}/{EPOCHS} — loss: {avg_loss:.4f}\")"
   ]
  },
  {
   "cell_type": "markdown",
   "id": "db41a635",
   "metadata": {},
   "source": [
    "# Model Evaluation\n",
    "\n",
    "### Evaluation Metrics\n",
    "We use several metrics to assess model performance:\n",
    "\n",
    "1. **Confusion Matrix**\n",
    "   - Shows True Positives, False Positives, True Negatives, False Negatives\n",
    "   - Helps visualize where model makes mistakes\n",
    "\n",
    "2. **F1 Score**\n",
    "   - Harmonic mean of precision and recall\n",
    "   - Balances false positives and false negatives\n",
    "   - Particularly important for imbalanced datasets\n",
    "\n",
    "### Prediction Process\n",
    "The `get_predictions` function:\n",
    "1. Sets model to evaluation mode\n",
    "2. Disables gradient computation\n",
    "3. Processes batches of data\n",
    "4. Returns both true labels and predicted probabilities\n",
    "\n",
    "### Visualization\n",
    "The confusion matrix plot shows:\n",
    "- Correct predictions on diagonal\n",
    "- Errors off-diagonal\n",
    "- Color intensity indicates frequency\n",
    "- Labels for easy interpretation"
   ]
  },
  {
   "cell_type": "code",
   "execution_count": null,
   "id": "ace8db86",
   "metadata": {},
   "outputs": [],
   "source": [
    "def get_predictions(loader):\n",
    "    \"\"\"Run model over a DataLoader and return (y_true, y_pred_probs).\"\"\"\n",
    "    model.eval()\n",
    "    all_preds = []\n",
    "    all_labels = []\n",
    "    with torch.no_grad():\n",
    "        for batch in loader:\n",
    "            # Move tensors to DirectML device individually\n",
    "            input_ids = batch['input_ids'].to(device)\n",
    "            attention_mask = batch['attention_mask'].to(device)\n",
    "            labels = batch[\"labels\"].to(device)\n",
    "            \n",
    "            # Forward pass\n",
    "            logits = model(input_ids=input_ids, attention_mask=attention_mask).logits\n",
    "            probs = torch.softmax(logits, dim=-1)\n",
    "            all_preds.append(probs.cpu().numpy())\n",
    "            all_labels.append(labels.cpu().numpy())\n",
    "    return (\n",
    "        np.concatenate(all_labels, axis=0),\n",
    "        np.concatenate(all_preds,  axis=0),\n",
    "    )\n",
    "\n",
    "def display_confusion_matrix(y_true, y_pred_probs, dataset_name):\n",
    "    y_pred = np.argmax(y_pred_probs, axis=1)\n",
    "    cm = confusion_matrix(y_true, y_pred)\n",
    "    disp = ConfusionMatrixDisplay(\n",
    "        confusion_matrix=cm,\n",
    "        display_labels=[\"Not Disaster\",\"Disaster\"],\n",
    "    )\n",
    "    disp.plot(cmap=plt.cm.Blues)\n",
    "    plt.title(f\"Confusion Matrix — {dataset_name}\")\n",
    "    plt.show()\n",
    "    # Compute a simple F1:\n",
    "    tp = cm[1,1]\n",
    "    fp = cm[0,1]\n",
    "    fn = cm[1,0]\n",
    "    f1 = tp / (tp + (fp+fn)/2)\n",
    "    print(f\"{dataset_name} F1 score: {f1:.2f}\\n\")"
   ]
  },
  {
   "cell_type": "code",
   "execution_count": 19,
   "id": "b0859da6",
   "metadata": {},
   "outputs": [
    {
     "data": {
      "image/png": "[encoded data removed]",
      "text/plain": [
       "<Figure size 640x480 with 2 Axes>"
      ]
     },
     "metadata": {},
     "output_type": "display_data"
    },
    {
     "name": "stdout",
     "output_type": "stream",
     "text": [
      "Training F1 score: 0.87\n",
      "\n"
     ]
    },
    {
     "data": {
      "image/png": "[encoded data removed]",
      "text/plain": [
       "<Figure size 640x480 with 2 Axes>"
      ]
     },
     "metadata": {},
     "output_type": "display_data"
    },
    {
     "name": "stdout",
     "output_type": "stream",
     "text": [
      "Validation F1 score: 0.82\n",
      "\n"
     ]
    }
   ],
   "source": [
    "# Cell: Evaluate\n",
    "y_train, p_train = get_predictions(train_loader)\n",
    "display_confusion_matrix(y_train, p_train, \"Training\")\n",
    "\n",
    "y_val, p_val = get_predictions(val_loader)\n",
    "display_confusion_matrix(y_val, p_val, \"Validation\")"
   ]
  }
 ],
 "metadata": {
  "kernelspec": {
   "display_name": "nlp-env",
   "language": "python",
   "name": "python3"
  },
  "language_info": {
   "codemirror_mode": {
    "name": "ipython",
    "version": 3
   },
   "file_extension": ".py",
   "mimetype": "text/x-python",
   "name": "python",
   "nbconvert_exporter": "python",
   "pygments_lexer": "ipython3",
   "version": "3.10.14"
  }
 },
 "nbformat": 4,
 "nbformat_minor": 5
}
